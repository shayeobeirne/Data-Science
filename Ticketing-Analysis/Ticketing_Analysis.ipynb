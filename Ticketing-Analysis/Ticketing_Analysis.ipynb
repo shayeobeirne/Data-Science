{
 "cells": [
  {
   "cell_type": "code",
   "execution_count": 1,
   "id": "664b574a",
   "metadata": {},
   "outputs": [],
   "source": [
    "#!pip install openpyxl\n",
    "#!pip install pandasql\n",
    "from pandasql import sqldf \n",
    "from sqlite3 import connect\n",
    "from matplotlib import pyplot as plt\n",
    "from bs4 import BeautifulSoup\n",
    "from datetime import datetime\n",
    "from sklearn.linear_model import LinearRegression, LogisticRegression, Lasso, Ridge\n",
    "\n",
    "import pandas as pd\n",
    "import numpy as np\n",
    "import requests\n",
    "import scipy.stats as stats\n",
    "mysql = lambda q: sqldf(q, globals())"
   ]
  },
  {
   "cell_type": "code",
   "execution_count": 2,
   "id": "2c98b639",
   "metadata": {},
   "outputs": [],
   "source": [
    "# Loading the data into the appropriate variables\n",
    "\n",
    "team     = pd.read_excel('Interview Project Data.xlsx', sheet_name='Team Data')"
   ]
  },
  {
   "cell_type": "code",
   "execution_count": 3,
   "id": "e4a721ab",
   "metadata": {},
   "outputs": [],
   "source": [
    "seating  = pd.read_excel('Interview Project Data.xlsx', sheet_name='Seating Chart')"
   ]
  },
  {
   "cell_type": "code",
   "execution_count": 4,
   "id": "72811e39",
   "metadata": {},
   "outputs": [],
   "source": [
    "packages = pd.read_excel('Interview Project Data.xlsx', sheet_name='Customer Package Type')"
   ]
  },
  {
   "cell_type": "code",
   "execution_count": 5,
   "id": "24c4c838",
   "metadata": {},
   "outputs": [],
   "source": [
    "sales    = pd.read_excel('Interview Project Data.xlsx', sheet_name='Ticket Sales Data')"
   ]
  },
  {
   "cell_type": "code",
   "execution_count": 6,
   "id": "f382b175",
   "metadata": {},
   "outputs": [],
   "source": [
    "scans    = pd.read_excel('Interview Project Data.xlsx', sheet_name='Ticket Scan Data')"
   ]
  },
  {
   "cell_type": "code",
   "execution_count": 7,
   "id": "cf250d97",
   "metadata": {},
   "outputs": [],
   "source": [
    "# Converting entries in scan_datetime from UTC to PST\n",
    "\n",
    "scans['scan_datetime'] = scans['scan_datetime'].dt.tz_localize('US/Central').dt.tz_convert('US/Pacific')\n",
    "scan_datetime = scans['scan_datetime']"
   ]
  },
  {
   "cell_type": "markdown",
   "id": "45d765be",
   "metadata": {},
   "source": [
    "**1. Do evening games (6:00pm or later) on average, have a higher attendance than afternoon games (Before 6:00pm)? Also, provide average attendance per game by month.**"
   ]
  },
  {
   "cell_type": "code",
   "execution_count": 8,
   "id": "3738af82",
   "metadata": {},
   "outputs": [
    {
     "name": "stdout",
     "output_type": "stream",
     "text": [
      "   Total Evening Games Attendence\n",
      "0                          201414\n",
      "   Total Evening Games\n",
      "0                   34\n",
      "   Total Afternoon Games Attendence\n",
      "0                             35056\n",
      "   Total Afternoon Games\n",
      "0                      7\n",
      "  Month  Total Attendence by Month\n",
      "0    01                      22071\n",
      "1    02                      26476\n",
      "2    03                      39331\n",
      "3    04                      24709\n",
      "4    10                      17102\n",
      "5    11                      67867\n",
      "6    12                      38914\n",
      "  Month  Total Games by Month\n",
      "0    01                     5\n",
      "1    02                     4\n",
      "2    03                     6\n",
      "3    04                     4\n",
      "4    10                     3\n",
      "5    11                    12\n",
      "6    12                     7\n"
     ]
    }
   ],
   "source": [
    "# Total Evening Games Attendence / Total Evening Games\n",
    "# First block finds the total occurrences of ticket scans where the hour ('H') is greater than or equal to 18, which \n",
    "# represents 6 PM on a 24-hour clock (evening game)\n",
    "# Second block finds the total number of evening games\n",
    "\n",
    "print(mysql(\" \\\n",
    "        SELECT COUNT(*) AS 'Total Evening Games Attendence' \\\n",
    "        FROM scans \\\n",
    "        WHERE (CAST(strftime('%H', event_datetime) AS int) >= 18)\"))\n",
    "\n",
    "print(mysql(\" \\\n",
    "        SELECT COUNT(DISTINCT(event_datetime)) AS 'Total Evening Games' \\\n",
    "        FROM scans \\\n",
    "        WHERE (CAST(strftime('%H', event_datetime) AS int) >= 18)\"))\n",
    "\n",
    "\n",
    "\n",
    "# Total Afternoon Games Attendence / Total Afternoon Games\n",
    "# First block finds the total occurrences of ticket scans where the hour ('H') is less than 18, which represents 6 PM \n",
    "# on a 24-hour clock (afternoon game)\n",
    "# Second block finds the total number of afternoon games\n",
    "\n",
    "print(mysql(\" \\\n",
    "        SELECT COUNT(*) AS 'Total Afternoon Games Attendence' \\\n",
    "        FROM scans \\\n",
    "        WHERE (CAST(strftime('%H', event_datetime) AS int) < 18)\"))\n",
    "\n",
    "print(mysql(\" \\\n",
    "        SELECT COUNT(DISTINCT(event_datetime)) AS 'Total Afternoon Games' \\\n",
    "        FROM scans \\\n",
    "        WHERE (CAST(strftime('%H', event_datetime) AS int) < 18)\"))\n",
    "\n",
    "\n",
    "\n",
    "# Total Attendence by Month / Total Games by Month\n",
    "# First block finds the total occurrences of ticket scans, grouped by month\n",
    "# Second block finds the total number of games, in order to compute average scans/game\n",
    "\n",
    "print(mysql(\" \\\n",
    "        SELECT DISTINCT(strftime('%m', event_datetime)) AS Month, \\\n",
    "        COUNT(*) AS 'Total Attendence by Month' \\\n",
    "        FROM scans \\\n",
    "        GROUP BY strftime('%m', event_datetime)\"))\n",
    "\n",
    "print(mysql(\" \\\n",
    "        SELECT DISTINCT(strftime('%m', event_datetime)) AS Month, \\\n",
    "        COUNT(DISTINCT(event_datetime)) AS 'Total Games by Month' \\\n",
    "        FROM scans \\\n",
    "        GROUP BY strftime('%m', event_datetime)\"))"
   ]
  },
  {
   "cell_type": "markdown",
   "id": "b7e9f8c6",
   "metadata": {},
   "source": [
    "**2. For all games, provide the average number of fans in arena 2hrs prior to start time, 1hr prior to start time, and at start time.\n",
    "a. PLEASE NOTE: scan date and time is in Central Time Zone; event date and time is in Pacific Time Zone.**"
   ]
  },
  {
   "cell_type": "code",
   "execution_count": 9,
   "id": "f2c1c37f",
   "metadata": {},
   "outputs": [
    {
     "name": "stdout",
     "output_type": "stream",
     "text": [
      "   Avg # of Fans at 2 Hours\n",
      "0                       2.0\n",
      "   Avg # of Fans at 1 Hour\n",
      "0                    706.0\n",
      "   Avg # of Fans at Start\n",
      "0                  3574.0\n"
     ]
    }
   ],
   "source": [
    "# Since the min scan time is 10:12:55 AM and the max scan time is 22:15:16 = 10:15:16 PM, there are no issues with \n",
    "# time arithmetic in this manner; time arithmetic defined as finding the difference in datetimes by converting time to\n",
    "# a 6-digit number on the 24-hour clock, where a difference of 20000 indicates a 2 hour difference (i.e., 12:00:00 -\n",
    "# 10:00:00 = 120000 - 100000 = 20000 = 02:00:00 = 2 hours). All scans occur on the same date of the event; if someone\n",
    "# scanned in at 1 AM the following day, however, for a 7 PM game (although unlikely), this time arithmetic would NOT \n",
    "# work. However, since the maximum scan datetime is 10:15:16 PM, this is not an issue.\n",
    "\n",
    "# 2 Hours prior to start time (difference >= 20000)\n",
    "print(mysql(\" \\\n",
    "        SELECT CAST(COUNT(*)/41 AS double) AS 'Avg # of Fans at 2 Hours' \\\n",
    "        FROM scans \\\n",
    "        WHERE \\\n",
    "        (CAST(strftime('%H%M%S', event_datetime) AS int) - CAST(strftime('%H%M%S', scan_datetime) AS int) >= 20000)\"))\n",
    "\n",
    "# 1 Hour prior to start time (difference >= 10000)\n",
    "print(mysql(\" \\\n",
    "        SELECT CAST(COUNT(*)/41 AS double) AS 'Avg # of Fans at 1 Hour' \\\n",
    "        FROM scans \\\n",
    "        WHERE \\\n",
    "        (CAST(strftime('%H%M%S', event_datetime) AS int) - CAST(strftime('%H%M%S', scan_datetime) AS int) >= 10000)\"))\n",
    "\n",
    "# At start time (difference >= 0)\n",
    "print(mysql(\" \\\n",
    "        SELECT CAST(COUNT(*)/41 AS double) AS 'Avg # of Fans at Start' \\\n",
    "        FROM scans \\\n",
    "        WHERE \\\n",
    "        (CAST(strftime('%H%M%S', event_datetime) AS int) - CAST(strftime('%H%M%S', scan_datetime) AS int) >= 0)\"))"
   ]
  },
  {
   "cell_type": "markdown",
   "id": "e8dbd880",
   "metadata": {},
   "source": [
    "**3. Count the number of accounts with both tickets bought >= 5 and scans >= 3. Of these, how many are members?**"
   ]
  },
  {
   "cell_type": "code",
   "execution_count": 10,
   "id": "63c8c6ea",
   "metadata": {},
   "outputs": [
    {
     "name": "stdout",
     "output_type": "stream",
     "text": [
      "   top_fans\n",
      "0      3883\n",
      "   top_members\n",
      "0         2411\n"
     ]
    }
   ],
   "source": [
    "# The bottom two chunks of code are very large in size, as there are a lot of inner joins going on to see the\n",
    "# intersections of conditions. Below are some subqueries used as methods to view the filtered data, some of which were\n",
    "# incorporated into the final code. They have been commented out, as they are not necessary to run in order to acquire \n",
    "# the final result.\n",
    "\n",
    "# SQ 1: All data necessary from [packages], [scans], [sales] sheets, joined on seat_unique_id and customer_unique_id\n",
    "# Used to see how data will look all together in one dataframe\n",
    "#\n",
    "# mysql(\" \\\n",
    "#         SELECT * \\\n",
    "#         FROM sales \\\n",
    "#         LEFT JOIN scans ON sales.seat_unique_id = scans.seat_unique_id \\\n",
    "#         LEFT JOIN packages ON sales.customer_unique_id = packages.customer_unique_id\")\n",
    "\n",
    "\n",
    "# SQ 2: Finds customer_unique_id and count of events attended from [scans] sheet, all grouped by customer, since [scans] \n",
    "# does not include customer_unique_id\n",
    "#\n",
    "# mysql(\" \\\n",
    "#         SELECT customer_unique_id, COUNT(event_datetime) \\\n",
    "#         FROM ( \\\n",
    "#             SELECT * \\\n",
    "#             FROM sales \\\n",
    "#             LEFT JOIN scans ON sales.seat_unique_id = scans.seat_unique_id \\\n",
    "#             WHERE (scans.event_datetime != 'None')) \\\n",
    "#         GROUP BY (customer_unique_id)\")\n",
    "\n",
    "# SQ 3: Counting number of tickets purchased, grouped by customer, then finding which customers purchased five or more\n",
    "# tickets\n",
    "#\n",
    "# mysql(\" \\\n",
    "#         SELECT customer_unique_id AS top_buyers \\\n",
    "#         FROM ( \\\n",
    "#             SELECT customer_unique_id, COUNT(customer_unique_id) AS count_purchased \\\n",
    "#             FROM sales \\\n",
    "#             GROUP BY (customer_unique_id)) \\\n",
    "#         WHERE (count_purchased >= 5)\")\n",
    "\n",
    "# SQ 4: Counting number of tickets scanned, grouped by customer, then finding which customers scanned in three or more times\n",
    "# mysql(\" \\\n",
    "#         SELECT customer_unique_id AS top_attendees \\\n",
    "#         FROM ( \\\n",
    "#             SELECT customer_unique_id, COUNT(customer_unique_id) AS count_attended \\\n",
    "#             FROM sales \\\n",
    "#             LEFT JOIN scans ON sales.seat_unique_id = scans.seat_unique_id \\\n",
    "#             WHERE (scans.event_datetime != 'None') \\\n",
    "#             GROUP BY (customer_unique_id)) \\\n",
    "#         WHERE (count_attended >= 3) \")\n",
    "\n",
    "# SQ 5: Counts number of customers who scanned in that are members\n",
    "# mysql(\" \\\n",
    "#         SELECT COUNT(customer_unique_id) \\\n",
    "#         FROM ( \\\n",
    "#             SELECT * \\\n",
    "#             FROM sales \\\n",
    "#             LEFT JOIN scans ON sales.seat_unique_id = scans.seat_unique_id \\\n",
    "#             LEFT JOIN packages ON sales.customer_unique_id = packages.customer_unique_id \\\n",
    "#             WHERE (sales.event_datetime != 'None'))\")\n",
    "\n",
    "# Question 3A: Count of Inner join of SQ 3 and SQ 4, indicating fans whose purchased tickets >= 5, scans >= 3\n",
    "print(mysql(\" \\\n",
    "        SELECT COUNT(*) AS top_fans \\\n",
    "        FROM ( \\\n",
    "            SELECT customer_unique_id AS top_buyers \\\n",
    "            FROM ( \\\n",
    "                SELECT customer_unique_id, COUNT(customer_unique_id) AS count_purchased \\\n",
    "                FROM sales \\\n",
    "                GROUP BY (customer_unique_id)) \\\n",
    "            WHERE (count_purchased >= 5)) \\\n",
    "        INNER JOIN ( \\\n",
    "            SELECT customer_unique_id AS top_attendees \\\n",
    "            FROM ( \\\n",
    "                SELECT customer_unique_id, COUNT(customer_unique_id) AS count_attended \\\n",
    "                FROM sales \\\n",
    "                LEFT JOIN scans ON sales.seat_unique_id = scans.seat_unique_id \\\n",
    "                WHERE (scans.event_datetime != 'None') GROUP BY (customer_unique_id)) \\\n",
    "            WHERE (count_attended >= 3)) \\\n",
    "        ON top_buyers = top_attendees\"))\n",
    "\n",
    "# Question 3B: Count of Inner Join of (Inner Join of SQ 3 and SQ 4) and packages, indicating members whose purchased \n",
    "# tickets >= 5, scans >= 3\n",
    "print(mysql(\" \\\n",
    "        SELECT COUNT(*) AS top_members \\\n",
    "        FROM ( \\\n",
    "            SELECT top_attendees AS top_fans \\\n",
    "            FROM ( \\\n",
    "                SELECT customer_unique_id AS top_buyers \\\n",
    "                FROM (\\\n",
    "                    SELECT customer_unique_id, COUNT(customer_unique_id) AS count_purchased \\\n",
    "                    FROM sales \\\n",
    "                    GROUP BY (customer_unique_id)) \\\n",
    "                    WHERE (count_purchased >= 5)) \\\n",
    "                INNER JOIN ( \\\n",
    "                    SELECT customer_unique_id AS top_attendees \\\n",
    "                    FROM ( \\\n",
    "                        SELECT customer_unique_id, COUNT(customer_unique_id) AS count_attended \\\n",
    "                        FROM sales \\\n",
    "                        LEFT JOIN scans ON sales.seat_unique_id = scans.seat_unique_id \\\n",
    "                        WHERE (scans.event_datetime != 'None') \\\n",
    "                        GROUP BY (customer_unique_id)) \\\n",
    "                    WHERE (count_attended >= 3)) \\\n",
    "                ON top_buyers = top_attendees) \\\n",
    "            INNER JOIN packages ON top_fans = packages.customer_unique_id\"))"
   ]
  },
  {
   "cell_type": "markdown",
   "id": "50a6661d",
   "metadata": {},
   "source": [
    "**4. Identify and rank the top 10 sections that are, on average, the most filled to their capacity.**"
   ]
  },
  {
   "cell_type": "code",
   "execution_count": 11,
   "id": "f406e750",
   "metadata": {},
   "outputs": [
    {
     "name": "stdout",
     "output_type": "stream",
     "text": [
      "1 . Section 106 ; 74.53600233213487 % capacity on average.\n",
      "2 . Section 102 ; 74.4305840004965 % capacity on average.\n",
      "3 . Section 105 ; 73.69886690992894 % capacity on average.\n",
      "4 . Section 114 ; 73.08943089430895 % capacity on average.\n",
      "5 . Section 107 ; 73.03666271335018 % capacity on average.\n",
      "6 . Section 113 ; 72.72107916609892 % capacity on average.\n",
      "7 . Section 115 ; 72.46147566078172 % capacity on average.\n",
      "8 . Section 109 ; 71.57275021026072 % capacity on average.\n",
      "9 . Section 101 ; 70.44254463163189 % capacity on average.\n",
      "10 . Section 117 ; 69.82355993772704 % capacity on average.\n"
     ]
    }
   ],
   "source": [
    "# List of sections from [seating] sheet\n",
    "sections = np.unique(seating['section_name']).tolist()\n",
    "section_capacity = []\n",
    "\n",
    "# Capacity of each section, saved into a list\n",
    "current_row = 0\n",
    "for section in sections:\n",
    "    seats = 0\n",
    "    for row in range(current_row, len(seating)):\n",
    "        if seating['section_name'][row] == section:\n",
    "            seats += seating['seat_count'][row]\n",
    "            current_row += 1\n",
    "        else:\n",
    "            break\n",
    "    section_capacity.append(seats)\n",
    "\n",
    "# Total scans for each section for entire season\n",
    "total_section_scans = [0] * (len(sections))\n",
    "for scan in range(len(scans)):\n",
    "    section = scans['section_name'][scan]\n",
    "    total_section_scans[sections.index(section)] += 1\n",
    "\n",
    "# Average seating for each section per game (41 home games)\n",
    "average_seating = []\n",
    "for total in total_section_scans:\n",
    "    average_seating.append(total/41)\n",
    "    \n",
    "# Percent filled = Average seating / Total capacity (By section)\n",
    "percent_filled = []\n",
    "for i in range(len(section_capacity)):\n",
    "    percent_filled.append(average_seating[i]/section_capacity[i])\n",
    "\n",
    "# Dictionary where key = section number, value = percent_filled\n",
    "section_percents = {}\n",
    "for x in range(len(sections)):\n",
    "    section_percents[sections[x]] = percent_filled[x]\n",
    "\n",
    "# Ranking the section_percents dictionary in descending order\n",
    "ranked = dict(sorted(section_percents.items(), key = lambda item: item[1], reverse = True))\n",
    "ranked_keys = []\n",
    "for key in ranked:\n",
    "    ranked_keys.append(key)\n",
    "    \n",
    "# Top 10 Sections filled\n",
    "for rank in range(10):\n",
    "    print(rank + 1, '. Section', ranked_keys[rank], ';', section_percents[ranked_keys[rank]]*100, '% capacity on average.')"
   ]
  },
  {
   "cell_type": "markdown",
   "id": "e593e6be",
   "metadata": {},
   "source": [
    "**5. Is there a correlation between the opponent team having a higher Vegas over/under win total\n",
    "(coming into the 21/22 season) and higher attendance in the 21/22 season?**"
   ]
  },
  {
   "cell_type": "code",
   "execution_count": 12,
   "id": "dd570444",
   "metadata": {
    "scrolled": true
   },
   "outputs": [],
   "source": [
    "# Creating the list of opposing teams. Special case for Portland, since this is the only team whose name is two words\n",
    "# (Trail Blazers)\n",
    "opponents = []\n",
    "for x in team['Team Full Name']:\n",
    "    if 'Portland' in x:\n",
    "        string = x.rsplit(' ', 2)[0]\n",
    "    else:\n",
    "        string = x.rsplit(' ', 1)[0]\n",
    "    if string not in opponents:\n",
    "        opponents.append(string)\n",
    "        \n",
    "# Vegas Over/Under 21/22 for each team\n",
    "vegas     = team['Vegas Over/Under 21/22']\n",
    "all_teams = team['Team Full Name'].tolist()\n",
    "del vegas[all_teams.index('Los Angeles Clippers')]\n",
    "\n",
    "# List of opponent for each game, corresponding to event_datetime in [sales] sheet\n",
    "game_opponent = []\n",
    "for row in range(len(sales)):\n",
    "    string = sales['event_name'][row]\n",
    "    new_string = string.split(' - ')\n",
    "    result = ''.join([i for i in new_string[1] if not i.isdigit()])\n",
    "    if 'New Orleans' in string:\n",
    "        result = 'New Orleans'\n",
    "    else:\n",
    "        result = result.replace(' //', '')\n",
    "    game_opponent.append(result)\n",
    "sales['game_opponent'] = game_opponent\n",
    "\n",
    "# Left-joining the [scans] sheet and [sales] sheet on seat_unique_id\n",
    "join = scans.merge(sales, on = 'seat_unique_id', how = 'left')\n",
    "\n",
    "# Empty opponents_attendance list\n",
    "opponents_attendance = [0] * (len(opponents))\n",
    "\n",
    "# For each row in [join] (same as row in [scans]), total attendance of each event with respect to the opposing team is\n",
    "# updated by +1 in opponent_attendance\n",
    "for x in range(len(join)):\n",
    "    team = join['game_opponent'][x]\n",
    "    opponents_attendance[opponents.index(team)] += 1\n",
    "    \n",
    "vegas_df = pd.read_csv('Vegas_Attendance.csv')\n",
    "vegas_df['Vegas'] = vegas\n",
    "vegas_df['Attendance'] = opponents_attendance\n",
    "vegas_df.to_csv('Vegas_Attendance.csv')"
   ]
  },
  {
   "cell_type": "code",
   "execution_count": 13,
   "id": "e1974e80",
   "metadata": {},
   "outputs": [
    {
     "name": "stdout",
     "output_type": "stream",
     "text": [
      "                        Vegas Over/Under 21/22  Opponents Attendance\n",
      "Vegas Over/Under 21/22                1.000000              0.203285\n",
      "Opponents Attendance                  0.203285              1.000000\n"
     ]
    },
    {
     "data": {
      "image/png": "[encoded data removed]",
      "text/plain": [
       "<Figure size 432x288 with 1 Axes>"
      ]
     },
     "metadata": {
      "needs_background": "light"
     },
     "output_type": "display_data"
    }
   ],
   "source": [
    "# Creating data frame for vegas data and opponents_attendance data\n",
    "df = pd.DataFrame({'Vegas Over/Under 21/22':vegas})\n",
    "df['Opponents Attendance'] = opponents_attendance\n",
    "\n",
    "# Finding Pearson's Correlation Coefficient\n",
    "print(df.corr())\n",
    "\n",
    "# Graphing the data to visualize the relationship between opponents attendance and Vegas Over/Under 21/22\n",
    "m, b = np.polyfit(vegas, opponents_attendance, 1)\n",
    "\n",
    "plt.scatter(vegas, opponents_attendance)\n",
    "plt.plot(vegas, m*vegas + b, color='darkorange')\n",
    "plt.xlabel('Vegas Over/Under 21/22') \n",
    "plt.ylabel('Opponents Total Attendance')\n",
    "plt.title('Attendance facing [Opponent], vs. [Opponent] Vegas Over/Under 21/22')\n",
    "plt.show()"
   ]
  },
  {
   "cell_type": "markdown",
   "id": "6b3e60f5",
   "metadata": {},
   "source": [
    "**6. Pull data from Basketball Reference around [21/22 game results](https://www.basketball-reference.com/teams/LAC/2022_games.html). Is there a difference in quantity\n",
    "of tickets purchased and attendance between home games within the following seven days from the third game of a win streak (W3), vs other games? Optional: Include code for scraping Basketball Reference and pulling in data.\n",
    "a. Hint: LAC had four win streaks of at least three games last season. You will be analyzing the sales/scans of the 8 games that occurred after one of these win streaks, compared to the remaining 33 games.**"
   ]
  },
  {
   "cell_type": "code",
   "execution_count": 14,
   "id": "3f7cc74c",
   "metadata": {
    "scrolled": false
   },
   "outputs": [],
   "source": [
    "# Data Scraping\n",
    "\n",
    "URL = \"https://www.basketball-reference.com/teams/LAC/2022_games.html\"\n",
    "page = requests.get(URL)\n",
    "soup = BeautifulSoup(page.content, \"html.parser\")\n",
    "\n",
    "# Game Outcome\n",
    "results = soup.find_all(attrs = {\"data-stat\": \"game_result\"})\n",
    "outcomes = []\n",
    "for row in results:\n",
    "    if row.text == 'L' or row.text == 'W':\n",
    "        outcomes.append(row.text)\n",
    "\n",
    "# Game Dates\n",
    "events = soup.find_all(attrs = {\"data-stat\": \"date_game\"})\n",
    "dates = []\n",
    "for row in events:\n",
    "    if row.text != 'Date':\n",
    "        date = row.text\n",
    "        datetime_object = datetime.strptime(date, '%a, %b %d, %Y')\n",
    "        datetime_object = datetime_object.strftime('%m/%d/%y')\n",
    "        dates.append(datetime_object)\n",
    "\n",
    "# Game Streaks\n",
    "stints = soup.find_all(attrs = {\"data-stat\": \"game_streak\"})\n",
    "streaks = []\n",
    "for row in stints:\n",
    "    if row.text != 'Streak':\n",
    "        streaks.append((row.text).split(' ')[1])\n",
    "\n",
    "\n",
    "        "
   ]
  },
  {
   "cell_type": "code",
   "execution_count": 15,
   "id": "a8de2225",
   "metadata": {},
   "outputs": [],
   "source": [
    "# Formatting dates scans['event_datetime'] to %m/%d/%y\n",
    "home_dates_raw = np.unique(scans['event_datetime']).tolist()\n",
    "home_dates = []\n",
    "for date in home_dates_raw:\n",
    "    x = int(str(date)[0:10])\n",
    "    y = datetime.fromtimestamp(x) \n",
    "    home_dates.append(y.strftime('%m/%d/%y'))\n",
    "    \n",
    "# Determining sales and scans for each home game, respectively, from [scans] sheet and [sales] sheet\n",
    "home_sales = [0] * len(home_dates)\n",
    "home_scans = [0] * len(home_dates)\n",
    "\n",
    "\n",
    "for x in range(len(sales)):\n",
    "    date = (sales['event_datetime'][x]).strftime('%m/%d/%y')\n",
    "    home_sales[home_dates.index(date)] += 1\n",
    "    \n",
    "for x in range(len(scans)):\n",
    "    date = (scans['event_datetime'][x]).strftime('%m/%d/%y')\n",
    "    home_scans[home_dates.index(date)] += 1\n",
    "        \n",
    "# Converting dates of games to which day in the season the game was played, starting with the date of the first home\n",
    "# game (10/23/21 = 1), for date arithmetic\n",
    "day_of_season = []\n",
    "day_of_season_home = []\n",
    "for i in range(len(dates)):\n",
    "    str_d1 = dates[0]\n",
    "    str_d2 = dates[i]\n",
    "    \n",
    "    d1 = datetime.strptime(str_d1, \"%m/%d/%y\")\n",
    "    d2 = datetime.strptime(str_d2, \"%m/%d/%y\")\n",
    "    \n",
    "    delta = d2 - d1\n",
    "    \n",
    "    day_of_season.append(delta.days)\n",
    "    \n",
    "    if dates[i] in home_dates:\n",
    "        day_of_season_home.append(delta.days)\n",
    "    \n",
    "# Identifying which days of the season where a third consecutive win occurred, both home games and away games\n",
    "third_win_game = []\n",
    "for streak in range(len(streaks)):\n",
    "    if int(streaks[streak]) == 3 and outcomes[streak] == 'W':\n",
    "        third_win_game.append(day_of_season[streak])\n",
    "\n",
    "# Each total sales in [home_sales] and total scans in [home_scans] that occurred within seven days of each \n",
    "# day_of_season in third_win_game is add to the appropriate list \n",
    "following_sales = []\n",
    "following_scans = []\n",
    "\n",
    "for num in range(0, len(third_win_game)):\n",
    "    for i in range(third_win_game[num] + 1, third_win_game[num] + 8):\n",
    "        if i in day_of_season_home:\n",
    "            following_sales.append(home_sales[day_of_season_home.index(i)])\n",
    "            following_scans.append(home_scans[day_of_season_home.index(i)])\n",
    "\n",
    "# All other sales and scans (all sales and scans excluding following_sales and following_scans, respectively)\n",
    "normal_sales = home_sales\n",
    "normal_scans = home_scans\n",
    "\n",
    "for sale in following_sales:\n",
    "    del normal_sales[normal_sales.index(sale)]\n",
    "for scan in following_scans:\n",
    "    del normal_scans[normal_scans.index(scan)]"
   ]
  },
  {
   "cell_type": "code",
   "execution_count": 16,
   "id": "43530738",
   "metadata": {},
   "outputs": [
    {
     "name": "stdout",
     "output_type": "stream",
     "text": [
      "Ttest_indResult(statistic=-1.2740534660239133, pvalue=0.21018463529035372)\n",
      "Ttest_indResult(statistic=-1.5988502180762474, pvalue=0.11792523713217326)\n"
     ]
    }
   ],
   "source": [
    "# Two Sample T-Test\n",
    "\n",
    "n_sales = np.array(normal_sales)\n",
    "n_scans = np.array(normal_scans)\n",
    "\n",
    "f_sales = np.array(following_sales)\n",
    "f_scans = np.array(following_scans)\n",
    "\n",
    "# Difference between sales in seven days following third consecutive win vs. all other sales?\n",
    "print(stats.ttest_ind(a = n_sales, b = f_sales, equal_var = True))\n",
    "# Difference between scans in seven days following third consecutive win vs. all other scans?\n",
    "print(stats.ttest_ind(a = n_scans, b = f_scans, equal_var = True))"
   ]
  },
  {
   "cell_type": "markdown",
   "id": "26eeb769",
   "metadata": {},
   "source": [
    "**Are Big Spenders Big Attendees?**"
   ]
  },
  {
   "cell_type": "code",
   "execution_count": 17,
   "id": "9ab99155",
   "metadata": {},
   "outputs": [],
   "source": [
    "customers = np.unique(sales['customer_unique_id']).tolist()\n",
    "\n",
    "customer_tickets = [0] * len(customers)\n",
    "customer_sales = [0] * len(customers)\n",
    "\n",
    "for row in range(len(sales)):\n",
    "    customer = sales['customer_unique_id'][row]\n",
    "    customer_tickets[customers.index(customer)] += 1\n",
    "    customer_sales[customers.index(customer)] += int(sales['price'][row])"
   ]
  },
  {
   "cell_type": "code",
   "execution_count": 18,
   "id": "12e9ef3b",
   "metadata": {},
   "outputs": [],
   "source": [
    "join = scans.merge(sales, on = 'seat_unique_id', how = 'left')\n",
    "customer_scans = [0] * len(customers)\n",
    "for row in range(len(join)):\n",
    "    customer = join['customer_unique_id'][row]\n",
    "    customer_scans[customers.index(customer)] += 1"
   ]
  },
  {
   "cell_type": "code",
   "execution_count": 19,
   "id": "980fc557",
   "metadata": {},
   "outputs": [],
   "source": [
    "customer_attendance = []\n",
    "for i in range(len(customers)):\n",
    "    attendance = customer_scans[i] / customer_tickets[i]\n",
    "    customer_attendance.append(attendance)"
   ]
  },
  {
   "cell_type": "code",
   "execution_count": 20,
   "id": "6b0668e4",
   "metadata": {},
   "outputs": [],
   "source": [
    "cust_df = pd.read_csv('Customer_Data.csv')\n",
    "\n",
    "cust_df['customer_unique_id'] = customers\n",
    "cust_df['customer_total_sales'] = customer_sales\n",
    "cust_df['customer_attendance'] = customer_attendance\n",
    "cust_df['customer_tickets'] = customer_tickets\n",
    "cust_df['customer_scans'] = customer_scans\n",
    "\n",
    "cust_df_ = cust_df.merge(packages, on = 'customer_unique_id', how = 'left')\n",
    "member_bin = []\n",
    "\n",
    "for package in cust_df_['price_code_type']:\n",
    "    if package == 'Half Season' or package == 'Full Season':\n",
    "        member_bin.append(1)\n",
    "    else:\n",
    "        member_bin.append(0)\n",
    "\n",
    "cust_df['is_member'] = member_bin\n",
    "cust_df.to_csv('Customer_Data.csv')"
   ]
  },
  {
   "cell_type": "markdown",
   "id": "3e1da685",
   "metadata": {},
   "source": [
    "**Attendance Prediction Model**"
   ]
  },
  {
   "cell_type": "code",
   "execution_count": 21,
   "id": "fb4827a3",
   "metadata": {},
   "outputs": [],
   "source": [
    "# Data Scraping\n",
    "# URL = \"https://www.basketball-reference.com/leagues/NBA_2022_ratings.html\"\n",
    "# page = requests.get(URL)\n",
    "# soup = BeautifulSoup(page.content, \"html.parser\")\n",
    "\n",
    "# teams = []\n",
    "\n",
    "# results = soup.find_all(attrs = {\"data-stat\": \"team_name\"})\n",
    "# for row in results:\n",
    "#     if row.text != 'Team':\n",
    "#         if row.text == 'Portland Trail Blazers':\n",
    "#             teams.append((row.text).rsplit(' ', 2)[0])\n",
    "#         else:\n",
    "#             teams.append((row.text).rsplit(' ', 1)[0])\n",
    "\n",
    "# rtg = []\n",
    "# results = soup.find_all(attrs = {\"data-stat\": \"net_rtg_adj\"})\n",
    "# for row in results:\n",
    "#     if row.text != 'NRtg/A':\n",
    "#         rtg.append(float(row.text))\n",
    "\n",
    "# team_rtg = {}\n",
    "# for x in range(len(teams)):\n",
    "#     team_rtg[teams[x]] = rtg[x]"
   ]
  },
  {
   "cell_type": "code",
   "execution_count": 22,
   "id": "92629c37",
   "metadata": {},
   "outputs": [],
   "source": [
    "# Percent Stadium Capacity\n",
    "arena_capacity = sum(seating['seat_count'])\n",
    "\n",
    "games_raw = np.unique(sales['event_datetime']).tolist()\n",
    "games = []\n",
    "for date in games_raw:\n",
    "    x = int(str(date)[0:10])\n",
    "    y = datetime.fromtimestamp(x) \n",
    "    games.append(y)\n",
    "\n",
    "num_scans = [0] * len(games)\n",
    "for row in range(len(scans)):\n",
    "    event_datetime = scans['event_datetime'][row]\n",
    "    num_scans[games.index(event_datetime)] += 1\n",
    "\n",
    "event_capacity = []\n",
    "for num in num_scans:\n",
    "    event_capacity.append(num/arena_capacity)"
   ]
  },
  {
   "cell_type": "code",
   "execution_count": 23,
   "id": "4fafb4d4",
   "metadata": {},
   "outputs": [],
   "source": [
    "URL = \"https://wegrynenterprises.com/2022/07/14/ranking-the-most-loved-nba-teams/\"\n",
    "page = requests.get(URL)\n",
    "soup = BeautifulSoup(page.content, \"html.parser\")\n",
    "\n",
    "info = []\n",
    "teams = []\n",
    "following = []\n",
    "\n",
    "results = soup.find_all(\"td\")\n",
    "for row in results:\n",
    "    info.append(row.text)\n",
    "info = info[4:len(info)]\n",
    "\n",
    "for x in range(len(info)):\n",
    "    if x % 4 == 1:\n",
    "        if info[x] != 'LA Clippers':\n",
    "            if info[x] == 'Portland Trail Blazers':\n",
    "                teams.append(info[x].rsplit(' ', 2)[0])\n",
    "            elif info[x] == 'LA Lakers':\n",
    "                teams.append('Los Angeles')\n",
    "            else:\n",
    "                teams.append(info[x].rsplit(' ', 1)[0])\n",
    "    elif x % 4 == 3:\n",
    "        following.append(info[x])\n",
    "\n",
    "games_following = []\n",
    "for team in range(len(opponents)):\n",
    "    follows = (following[teams.index(opponents[team])]).replace(',', '')\n",
    "    games_following.append(int(follows))"
   ]
  },
  {
   "cell_type": "code",
   "execution_count": 24,
   "id": "f65c5576",
   "metadata": {},
   "outputs": [],
   "source": [
    "# # Opponent Net Adjusted Rating\n",
    "# opponent_rtg = []\n",
    "# opponents = []\n",
    "# event_names = [''] * len(games)\n",
    "# for event in range(len(scans)):\n",
    "#     event_datetime = scans['event_datetime'][event]\n",
    "#     if scans['event_name'][event] not in event_names:\n",
    "#         event_names[games.index(event_datetime)] = scans['event_name'][event]\n",
    "\n",
    "# for string in event_names:\n",
    "#     new_string = string.split(' - ')\n",
    "#     result = ''.join([i for i in new_string[1] if not i.isdigit()])\n",
    "#     if 'New Orleans' in string:\n",
    "#         result = 'New Orleans'\n",
    "#     else:\n",
    "#         result = result.replace(' //', '')\n",
    "#     opponents.append(result)\n",
    "\n",
    "# for opponent in opponents:\n",
    "#     opponent_rtg.append(team_rtg[opponent])"
   ]
  },
  {
   "cell_type": "code",
   "execution_count": 25,
   "id": "bebb7e4d",
   "metadata": {},
   "outputs": [],
   "source": [
    "# Average Ticket Price\n",
    "total_sales = [0] * len(games)\n",
    "total_profit = [0] * len(games)\n",
    "avg_price = []\n",
    "\n",
    "for ticket in range(len(sales)):\n",
    "    event_datetime = sales['event_datetime'][ticket]\n",
    "    total_profit[games.index(event_datetime)] += sales['price'][ticket]\n",
    "    total_sales[games.index(event_datetime)] += 1\n",
    "\n",
    "for num in range(len(total_profit)):\n",
    "    avg_price.append(total_profit[num]/total_sales[num])"
   ]
  },
  {
   "cell_type": "code",
   "execution_count": 26,
   "id": "b926a05a",
   "metadata": {},
   "outputs": [],
   "source": [
    "# Scans / Sales\n",
    "total_scans = [0] * len(games)\n",
    "for scan in range(len(scans)):\n",
    "    event_datetime = scans['event_datetime'][scan]\n",
    "    total_scans[games.index(event_datetime)] += 1\n",
    "\n",
    "attendance = []\n",
    "for x in range(len(total_scans)):\n",
    "    attendance.append(total_scans[x]/total_sales[x])"
   ]
  },
  {
   "cell_type": "code",
   "execution_count": 27,
   "id": "002bf55d",
   "metadata": {},
   "outputs": [],
   "source": [
    "# Percent Attendance that are Members\n",
    "join_sales = sales.merge(packages, on = 'customer_unique_id', how = 'left')\n",
    "join_members = join_sales.merge(scans, on = 'seat_unique_id', how = 'left')\n",
    "\n",
    "num_members = [0] * len(games)\n",
    "gates = np.unique(scans['scan_gate']).tolist()\n",
    "for row in range(len(join_members)):\n",
    "    event_datetime = join_members['event_datetime_x'][row]\n",
    "    if (join_members['price_code_type_y'][row] == 'Full Season' or join_members['price_code_type_y'][row] == 'Half Season') and join_members['scan_gate'][row] in gates:\n",
    "        num_members[games.index(event_datetime)] += 1\n",
    "        \n",
    "percent_mems = []\n",
    "for x in range(len(num_members)):\n",
    "    percent_mems.append(num_members[x]/total_scans[x])"
   ]
  },
  {
   "cell_type": "code",
   "execution_count": 28,
   "id": "9675053b",
   "metadata": {},
   "outputs": [],
   "source": [
    "# Ongoing season winning percentage\n",
    "season_winning = [1]\n",
    "home_outcomes = []\n",
    "for x in range(len(dates)):\n",
    "    if dates[x] in home_dates:\n",
    "        home_outcomes.append(outcomes[dates.index(dates[x])])\n",
    "\n",
    "for outcome in range(len(home_outcomes) - 1):\n",
    "    num_wins = home_outcomes[0:outcome + 1].count('W')\n",
    "    num_games = len(home_outcomes[0:outcome + 1])\n",
    "    season_winning.append(num_wins/num_games)"
   ]
  },
  {
   "cell_type": "code",
   "execution_count": 29,
   "id": "befe0790",
   "metadata": {},
   "outputs": [],
   "source": [
    "reg_df = pd.DataFrame(list(zip(opponents, games, event_capacity, attendance, percent_mems, avg_price, games_following, season_winning)), \\\n",
    "                      columns =['opponent', 'datetime', 'event_capacity', 'attendance', 'percent_mems', 'avg_ticket_price', 'social_media_following', 'ongoing_win_pct'])"
   ]
  },
  {
   "cell_type": "code",
   "execution_count": 30,
   "id": "aa6c46c1",
   "metadata": {},
   "outputs": [],
   "source": [
    "# # Weekend game\n",
    "# weekend_game = []\n",
    "\n",
    "# for game in games:\n",
    "#     if str(game.strftime('%a')) == 'Sat' or str(game.strftime('%a')) == 'Sun':\n",
    "#         weekend_game.append(1)\n",
    "#     else:\n",
    "#         weekend_game.append(0)"
   ]
  },
  {
   "cell_type": "code",
   "execution_count": 31,
   "id": "4243b354",
   "metadata": {},
   "outputs": [
    {
     "name": "stdout",
     "output_type": "stream",
     "text": [
      "0.9809875894801664\n",
      "[ 9.67878748e-01 -4.79931397e-01 -7.11819297e-05 -3.26767179e-10\n",
      "  1.13987804e-02]\n",
      "0.22766496723097662\n"
     ]
    },
    {
     "name": "stderr",
     "output_type": "stream",
     "text": [
      "/home/jupyter-sobeirne/.local/lib/python3.9/site-packages/sklearn/linear_model/_ridge.py:157: LinAlgWarning: Ill-conditioned matrix (rcond=3.22439e-18): result may not be accurate.\n",
      "  return linalg.solve(A, Xy, sym_pos=True, overwrite_a=True).T\n"
     ]
    }
   ],
   "source": [
    "X = reg_df.iloc[:, 3:8]\n",
    "y = reg_df.iloc[:, 2]\n",
    "\n",
    "split_idx = int(0.7*X.shape[0])\n",
    "\n",
    "X_train, y_train = X.iloc[:split_idx, :], y.iloc[:split_idx]\n",
    "X_test, y_test = X.iloc[split_idx:, :], y.iloc[split_idx:]\n",
    "\n",
    "model = Ridge(alpha = 0.01)\n",
    "model.fit(X_train, y_train)\n",
    "\n",
    "print(model.score(X_test, y_test))\n",
    "print(model.coef_)\n",
    "print(model.intercept_)"
   ]
  },
  {
   "cell_type": "code",
   "execution_count": 18,
   "id": "b5180616",
   "metadata": {},
   "outputs": [],
   "source": [
    "# Afternoon or evening game\n",
    "# evening_game = []\n",
    "\n",
    "# for game in games:\n",
    "#     if int(game.strftime('%H%M')) >= 1800:\n",
    "#         evening_game.append(1)\n",
    "#     else:\n",
    "#         evening_game.append(0)"
   ]
  },
  {
   "cell_type": "code",
   "execution_count": null,
   "id": "c7738785",
   "metadata": {},
   "outputs": [],
   "source": []
  }
 ],
 "metadata": {
  "kernelspec": {
   "display_name": "Python 3 (ipykernel)",
   "language": "python",
   "name": "python3"
  },
  "language_info": {
   "codemirror_mode": {
    "name": "ipython",
    "version": 3
   },
   "file_extension": ".py",
   "mimetype": "text/x-python",
   "name": "python",
   "nbconvert_exporter": "python",
   "pygments_lexer": "ipython3",
   "version": "3.9.7"
  }
 },
 "nbformat": 4,
 "nbformat_minor": 5
}
