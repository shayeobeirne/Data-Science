{
 "cells": [
  {
   "cell_type": "code",
   "execution_count": 2,
   "id": "4ca9fc7d",
   "metadata": {},
   "outputs": [],
   "source": [
    "import numpy as np\n",
    "import pandas as pd\n",
    "import requests\n",
    "from bs4 import BeautifulSoup\n",
    "import scipy.stats as stats"
   ]
  },
  {
   "cell_type": "code",
   "execution_count": 18,
   "id": "68873c71",
   "metadata": {},
   "outputs": [],
   "source": [
    "#WNBA Games Started Stats\n",
    "\n",
    "teams = [\"atl\", \"chi\", \"conn\", \"dal\", \"ind\", \"lv\", \"la\", \"min\", \"ny\", \"phx\", \"sea\", \"wsh\"]\n",
    "\n",
    "names_start = []\n",
    "all_data = []\n",
    "gs = []\n",
    "\n",
    "for i in teams:\n",
    "    URL = \"https://www.espn.com/wnba/team/stats/_/name/\"\n",
    "    URL = URL + i\n",
    "    page = requests.get(URL)\n",
    "    soup = BeautifulSoup(page.content, \"html.parser\")\n",
    "\n",
    "    results = soup.find_all(\"tr\", class_ = \"Table__TR Table__TR--sm Table__even\")\n",
    "\n",
    "    i = 0\n",
    "    j = 0\n",
    "\n",
    "    for line in results:\n",
    "        i += 1\n",
    "\n",
    "    for line in results:\n",
    "        j += 1\n",
    "        player_name = line.find('a')\n",
    "        names_start.append(player_name.text)\n",
    "        if (j == (i/4 - 1)):\n",
    "            break\n",
    "\n",
    "    results = soup.find_all(\"span\")\n",
    "\n",
    "    j = 0\n",
    "\n",
    "    for line in results:\n",
    "        if (\"0\" in line.text or \"1\" in line.text or \"2\" in line.text or \"3\" in line.text or \"4\" in line.text or \"5\" in line.text or \"6\" in line.text or \"7\" in line.text or \"8\" in line.text or \"9\" in line.text):\n",
    "            j += 1\n",
    "            all_data.append(float(line.text))\n",
    "        if (j == ((i/4 - 1) * 13)):\n",
    "            break\n",
    "\n",
    "    for k in range(int(i/4 - 1)):\n",
    "        gs.append(all_data[k*13 + 1])"
   ]
  },
  {
   "cell_type": "code",
   "execution_count": 19,
   "id": "dd388e3e",
   "metadata": {},
   "outputs": [],
   "source": [
    "#WNBA Salaries\n",
    "URL = \"https://www.spotrac.com/wnba/rankings/\"\n",
    "page = requests.get(URL)\n",
    "soup = BeautifulSoup(page.content, \"html.parser\")\n",
    "\n",
    "names_salary = []\n",
    "raw = []\n",
    "salaries = []\n",
    "\n",
    "results = soup.find_all(\"td\", class_ = \"rank-name player noborderright\")\n",
    "\n",
    "for line in results:\n",
    "    player_name = line.find('a', class_ = \"team-name\")\n",
    "    names_salary.append(player_name.text)\n",
    "\n",
    "results = soup.find_all(\"tr\")\n",
    "for line in results:\n",
    "    salary = line.find('span', class_ = \"info\")\n",
    "    raw.append(salary)\n",
    "\n",
    "for i in range(1, len(raw)):\n",
    "    salary = (raw[i].text).replace(\"  \", \"\")\n",
    "    salary = salary.replace(\"$\", \"\")\n",
    "    salary = int(salary.replace(\",\", \"\"))\n",
    "    salaries.append(salary)\n"
   ]
  },
  {
   "cell_type": "code",
   "execution_count": 20,
   "id": "d33b526d",
   "metadata": {},
   "outputs": [
    {
     "name": "stdout",
     "output_type": "stream",
     "text": [
      "[108000, 227900, 72141, 196267, 200000, 228094, 227900, 228094, 196267, 0, 205000, 200000, 227900, 170000, 120000, 72141, 200000, 196267, 185400, 72141, 72141, 180250, 150000, 72141, 170000, 196267, 76297, 150350, 135000, 145000, 142800, 195000, 148400, 190000, 215000, 195000, 159000, 73542, 113300, 72141, 164800, 0, 0, 68552, 130000, 0, 196267, 140000, 72141, 228094, 0, 67042, 155000, 185000, 107040, 170000, 141000, 0, 160000, 90000, 0, 0, 221450, 76297, 140000, 0, 0, 0, 72141, 71441, 196267, 90000, 129150, 160000, 196100, 0, 0, 73211, 0, 0, 67042, 75000, 98000, 115000, 70127, 180200, 76297, 0, 0, 73211, 0, 0, 190550, 0, 70127, 110000, 67042, 0, 0, 0, 71441, 74000, 0, 0, 0, 80000, 0, 73211, 0, 160000, 0, 0, 0, 72141, 0, 0, 0, 0, 116390, 0, 0, 0, 0, 227900, 71441, 0, 0, 0, 0, 0, 0, 0, 196000, 115000, 0, 80000, 0, 0, 0, 0, 115000, 0, 0, 0, 206000, 0, 68552, 0, 0, 0, 80000, 0, 0, 0, 0, 0, 0, 0, 0, 68552, 70127, 73211, 0, 0, 0, 0, 0, 90000, 0, 0, 0]\n",
      "[32.0, 32.0, 32.0, 32.0, 32.0, 32.0, 19.0, 19.0, 32.0, 32.0, 32.0, 19.0, 19.0, 19.0, 11.0, 32.0, 32.0, 11.0, 19.0, 19.0, 11.0, 19.0, 11.0, 11.0, 11.0, 21.0, 11.0, 11.0, 11.0, 9.0, 9.0, 9.0, 19.0, 11.0, 19.0, 19.0, 9.0, 11.0, 11.0, 11.0, 11.0, 21.0, 9.0, 21.0, 9.0, 21.0, 32.0, 9.0, 9.0, 11.0, 9.0, 21.0, 11.0, 9.0, 21.0, 11.0, 9.0, 9.0, 11.0, 9.0, 9.0, 21.0, 19.0, 11.0, 21.0, 21.0, 9.0, 6.0, 9.0, 4.0, 11.0, 32.0, 9.0, 21.0, 11.0, 9.0, 4.0, 4.0, 9.0, 32.0, 4.0, 21.0, 6.0, 4.0, 9.0, 9.0, 11.0, 4.0, 6.0, 6.0, 8.0, 6.0, 11.0, 6.0, 4.0, 6.0, 6.0, 32.0, 4.0, 0.0, 4.0, 8.0, 6.0, 32.0, 6.0, 4.0, 0.0, 32.0, 0.0, 32.0, 6.0, 8.0, 32.0, 0.0, 0.0, 8.0, 32.0, 0.0, 6.0, 32.0, 8.0, 0.0, 8.0, 11.0, 8.0, 0.0, 32.0, 32.0, 0.0, 0.0, 0.0, 0.0, 32.0, 8.0, 0.0, 4.0, 8.0, 8.0, 0.0, 0.0, 8.0, 6.0, 8.0, 0.0, 9.0, 8.0, 0.0, 0.0, 0.0, 0.0, 4.0, 0.0, 32.0, 0.0, 0.0, 0.0, 0.0, 0.0, 6.0, 0.0, 0, 32.0, 0.0, 0.0, 0.0, 32.0, 0.0, 9.0, 0.0, 0.0, 0.0]\n"
     ]
    }
   ],
   "source": [
    "salaries_sorted = []\n",
    "games_started = []\n",
    "data = np.genfromtxt('wnba-player-stats.csv', dtype = (str), skip_header = 1, delimiter = ',')\n",
    "players = data[:, 0]\n",
    "\n",
    "i = -1\n",
    "for player in players:\n",
    "    if player in names_salary:\n",
    "        index = names_salary.index(player)\n",
    "        salaries_sorted.append(salaries[index])\n",
    "    else:\n",
    "        salaries_sorted.append(0)\n",
    "        \n",
    "    if player in names_start:\n",
    "        index = names_start.index(player)\n",
    "        games_started.append(gs[index])\n",
    "    else:\n",
    "        games_started.append(0)"
   ]
  },
  {
   "cell_type": "code",
   "execution_count": 21,
   "id": "d53b5692",
   "metadata": {},
   "outputs": [],
   "source": [
    "df = pd.read_csv('wnba-player-stats.csv')\n",
    "df[\"Salaries\"] = salaries_sorted\n",
    "df[\"GS\"] = games_started\n",
    "df.to_csv('wnba-player-stats.csv')"
   ]
  },
  {
   "cell_type": "code",
   "execution_count": null,
   "id": "7dc51d81",
   "metadata": {},
   "outputs": [],
   "source": []
  }
 ],
 "metadata": {
  "kernelspec": {
   "display_name": "Python 3 (ipykernel)",
   "language": "python",
   "name": "python3"
  },
  "language_info": {
   "codemirror_mode": {
    "name": "ipython",
    "version": 3
   },
   "file_extension": ".py",
   "mimetype": "text/x-python",
   "name": "python",
   "nbconvert_exporter": "python",
   "pygments_lexer": "ipython3",
   "version": "3.9.7"
  }
 },
 "nbformat": 4,
 "nbformat_minor": 5
}
